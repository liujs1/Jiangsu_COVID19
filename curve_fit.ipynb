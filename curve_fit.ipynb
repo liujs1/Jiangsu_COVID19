{
 "cells": [
  {
   "cell_type": "code",
   "execution_count": 12,
   "metadata": {
    "ExecuteTime": {
     "end_time": "2020-04-15T05:15:54.851573Z",
     "start_time": "2020-04-15T05:15:54.823582Z"
    }
   },
   "outputs": [],
   "source": [
    "import pandas as pd\n",
    "df=pd.read_excel('Figure4data.xlsx')"
   ]
  },
  {
   "cell_type": "code",
   "execution_count": 13,
   "metadata": {
    "ExecuteTime": {
     "end_time": "2020-04-15T05:15:55.534847Z",
     "start_time": "2020-04-15T05:15:55.515850Z"
    }
   },
   "outputs": [
    {
     "data": {
      "text/html": [
       "<div>\n",
       "<style scoped>\n",
       "    .dataframe tbody tr th:only-of-type {\n",
       "        vertical-align: middle;\n",
       "    }\n",
       "\n",
       "    .dataframe tbody tr th {\n",
       "        vertical-align: top;\n",
       "    }\n",
       "\n",
       "    .dataframe thead th {\n",
       "        text-align: right;\n",
       "    }\n",
       "</style>\n",
       "<table border=\"1\" class=\"dataframe\">\n",
       "  <thead>\n",
       "    <tr style=\"text-align: right;\">\n",
       "      <th></th>\n",
       "      <th>Unnamed: 0</th>\n",
       "      <th>jiangsu confirmed</th>\n",
       "      <th>jiangsu cured</th>\n",
       "      <th>China non-Hubei confirmed</th>\n",
       "      <th>China non-Hubei cured</th>\n",
       "    </tr>\n",
       "  </thead>\n",
       "  <tbody>\n",
       "    <tr>\n",
       "      <th>0</th>\n",
       "      <td>2020-01-20</td>\n",
       "      <td>0</td>\n",
       "      <td>0</td>\n",
       "      <td>21</td>\n",
       "      <td>0.0</td>\n",
       "    </tr>\n",
       "    <tr>\n",
       "      <th>1</th>\n",
       "      <td>2020-01-21</td>\n",
       "      <td>0</td>\n",
       "      <td>0</td>\n",
       "      <td>65</td>\n",
       "      <td>0.0</td>\n",
       "    </tr>\n",
       "    <tr>\n",
       "      <th>2</th>\n",
       "      <td>2020-01-22</td>\n",
       "      <td>5</td>\n",
       "      <td>0</td>\n",
       "      <td>127</td>\n",
       "      <td>0.0</td>\n",
       "    </tr>\n",
       "    <tr>\n",
       "      <th>3</th>\n",
       "      <td>2020-01-23</td>\n",
       "      <td>9</td>\n",
       "      <td>0</td>\n",
       "      <td>281</td>\n",
       "      <td>3.0</td>\n",
       "    </tr>\n",
       "    <tr>\n",
       "      <th>4</th>\n",
       "      <td>2020-01-24</td>\n",
       "      <td>18</td>\n",
       "      <td>0</td>\n",
       "      <td>558</td>\n",
       "      <td>6.0</td>\n",
       "    </tr>\n",
       "    <tr>\n",
       "      <th>...</th>\n",
       "      <td>...</td>\n",
       "      <td>...</td>\n",
       "      <td>...</td>\n",
       "      <td>...</td>\n",
       "      <td>...</td>\n",
       "    </tr>\n",
       "    <tr>\n",
       "      <th>56</th>\n",
       "      <td>2020-03-16</td>\n",
       "      <td>631</td>\n",
       "      <td>631</td>\n",
       "      <td>13082</td>\n",
       "      <td>NaN</td>\n",
       "    </tr>\n",
       "    <tr>\n",
       "      <th>57</th>\n",
       "      <td>2020-03-17</td>\n",
       "      <td>631</td>\n",
       "      <td>631</td>\n",
       "      <td>13094</td>\n",
       "      <td>NaN</td>\n",
       "    </tr>\n",
       "    <tr>\n",
       "      <th>58</th>\n",
       "      <td>2020-03-18</td>\n",
       "      <td>631</td>\n",
       "      <td>631</td>\n",
       "      <td>13128</td>\n",
       "      <td>NaN</td>\n",
       "    </tr>\n",
       "    <tr>\n",
       "      <th>59</th>\n",
       "      <td>2020-03-19</td>\n",
       "      <td>631</td>\n",
       "      <td>631</td>\n",
       "      <td>13167</td>\n",
       "      <td>NaN</td>\n",
       "    </tr>\n",
       "    <tr>\n",
       "      <th>60</th>\n",
       "      <td>2020-03-20</td>\n",
       "      <td>631</td>\n",
       "      <td>631</td>\n",
       "      <td>13208</td>\n",
       "      <td>NaN</td>\n",
       "    </tr>\n",
       "  </tbody>\n",
       "</table>\n",
       "<p>61 rows × 5 columns</p>\n",
       "</div>"
      ],
      "text/plain": [
       "   Unnamed: 0  jiangsu confirmed  jiangsu cured  China non-Hubei confirmed  \\\n",
       "0  2020-01-20                  0              0                         21   \n",
       "1  2020-01-21                  0              0                         65   \n",
       "2  2020-01-22                  5              0                        127   \n",
       "3  2020-01-23                  9              0                        281   \n",
       "4  2020-01-24                 18              0                        558   \n",
       "..        ...                ...            ...                        ...   \n",
       "56 2020-03-16                631            631                      13082   \n",
       "57 2020-03-17                631            631                      13094   \n",
       "58 2020-03-18                631            631                      13128   \n",
       "59 2020-03-19                631            631                      13167   \n",
       "60 2020-03-20                631            631                      13208   \n",
       "\n",
       "    China non-Hubei cured  \n",
       "0                     0.0  \n",
       "1                     0.0  \n",
       "2                     0.0  \n",
       "3                     3.0  \n",
       "4                     6.0  \n",
       "..                    ...  \n",
       "56                    NaN  \n",
       "57                    NaN  \n",
       "58                    NaN  \n",
       "59                    NaN  \n",
       "60                    NaN  \n",
       "\n",
       "[61 rows x 5 columns]"
      ]
     },
     "execution_count": 13,
     "metadata": {},
     "output_type": "execute_result"
    }
   ],
   "source": [
    "df"
   ]
  },
  {
   "cell_type": "code",
   "execution_count": 14,
   "metadata": {
    "ExecuteTime": {
     "end_time": "2020-04-15T05:15:58.796564Z",
     "start_time": "2020-04-15T05:15:58.789567Z"
    }
   },
   "outputs": [],
   "source": [
    "jscon=df.iloc[:,1].values #jiangsu confirmed\n",
    "jscur=df.iloc[:,2].values #jiangsu cured\n",
    "chinacon=df.iloc[:-9,3].values # China non-Hubei confrimed\n",
    "chinacur=df.iloc[:-9,4].values # China non-Hubei cured"
   ]
  },
  {
   "cell_type": "code",
   "execution_count": 15,
   "metadata": {
    "ExecuteTime": {
     "end_time": "2020-04-15T05:15:59.216152Z",
     "start_time": "2020-04-15T05:15:59.194146Z"
    }
   },
   "outputs": [],
   "source": [
    "from scipy.optimize import curve_fit\n",
    "ydata = jscon\n",
    "xdata = list(range(1,len(ydata)+1))\n",
    "\n",
    "def sigmoid(x, L ,x0, k):\n",
    "    y = L / (1 + np.exp(-k*(x-x0)))\n",
    "    return (y)\n",
    "p0 = [max(ydata), np.median(xdata),1] # this is an mandatory initial guess\n",
    "popt, pcov = curve_fit(sigmoid, xdata, ydata,p0, method='dogbox')"
   ]
  },
  {
   "cell_type": "code",
   "execution_count": 16,
   "metadata": {
    "ExecuteTime": {
     "end_time": "2020-04-15T05:16:01.010884Z",
     "start_time": "2020-04-15T05:16:00.736972Z"
    }
   },
   "outputs": [
    {
     "data": {
      "text/plain": [
       "<matplotlib.legend.Legend at 0x20208acd9e8>"
      ]
     },
     "execution_count": 16,
     "metadata": {},
     "output_type": "execute_result"
    },
    {
     "data": {
      "image/png": "[encoded data removed]",
      "text/plain": [
       "<Figure size 432x288 with 1 Axes>"
      ]
     },
     "metadata": {
      "needs_background": "light"
     },
     "output_type": "display_data"
    }
   ],
   "source": [
    "import numpy as np\n",
    "x = np.linspace(1,53,num=1000)\n",
    "y=[sigmoid(xi,popt[0],popt[1],popt[2]) for xi in x];\n",
    "\n",
    "from matplotlib import pyplot as plt\n",
    "plt.plot(xdata, ydata, 'o', label='data')\n",
    "plt.plot(x,y, label='fit')\n",
    "# plt.ylim(0, 1.3)\n",
    "plt.legend(loc='best')"
   ]
  },
  {
   "cell_type": "code",
   "execution_count": 17,
   "metadata": {
    "ExecuteTime": {
     "end_time": "2020-04-15T05:16:01.635231Z",
     "start_time": "2020-04-15T05:16:01.629237Z"
    }
   },
   "outputs": [
    {
     "data": {
      "text/plain": [
       "array([6.33346195e+02, 1.54893645e+01, 2.59140904e-01])"
      ]
     },
     "execution_count": 17,
     "metadata": {},
     "output_type": "execute_result"
    }
   ],
   "source": [
    "popt"
   ]
  },
  {
   "cell_type": "code",
   "execution_count": 18,
   "metadata": {
    "ExecuteTime": {
     "end_time": "2020-04-15T05:16:02.223047Z",
     "start_time": "2020-04-15T05:16:02.216049Z"
    }
   },
   "outputs": [
    {
     "data": {
      "text/plain": [
       "array([[ 3.53844846e+00,  6.44614452e-02, -3.41699683e-03],\n",
       "       [ 6.44614452e-02,  7.68188164e-03, -6.04422458e-05],\n",
       "       [-3.41699683e-03, -6.04422458e-05,  2.64436263e-05]])"
      ]
     },
     "execution_count": 18,
     "metadata": {},
     "output_type": "execute_result"
    }
   ],
   "source": [
    "pcov"
   ]
  },
  {
   "cell_type": "code",
   "execution_count": 19,
   "metadata": {
    "ExecuteTime": {
     "end_time": "2020-04-15T05:16:02.730061Z",
     "start_time": "2020-04-15T05:16:02.721061Z"
    }
   },
   "outputs": [],
   "source": [
    "def getIndexes(y_predict, y_data):\n",
    "    n = y_data.size\n",
    "    # SSE\n",
    "    SSE=((y_data-y_predict)**2).sum()\n",
    "    # MSE\n",
    "    MSE=SSE/n\n",
    "    # RMSE\n",
    "    RMSE=np.sqrt(MSE)\n",
    "    \n",
    "    # R square\n",
    "    u = y_data.mean()\n",
    "    SST=((y_data-u)**2).sum()\n",
    "    SSR=SST-SSE\n",
    "    R_square=SSR/SST\n",
    "    return SSE, MSE, RMSE, R_square"
   ]
  },
  {
   "cell_type": "code",
   "execution_count": 20,
   "metadata": {
    "ExecuteTime": {
     "end_time": "2020-04-15T05:16:04.228385Z",
     "start_time": "2020-04-15T05:16:04.220383Z"
    }
   },
   "outputs": [],
   "source": [
    "y_predict=[sigmoid(xi,popt[0],popt[1],popt[2]) for xi in xdata];\n",
    "SSE, MSE, RMSE, R_square = getIndexes(y_predict,ydata)"
   ]
  },
  {
   "cell_type": "code",
   "execution_count": 21,
   "metadata": {
    "ExecuteTime": {
     "end_time": "2020-04-15T05:16:04.659318Z",
     "start_time": "2020-04-15T05:16:04.653318Z"
    }
   },
   "outputs": [
    {
     "name": "stdout",
     "output_type": "stream",
     "text": [
      "SSE:  6531.112559525834\n",
      "MSE:  107.06741900862022\n",
      "RMSE:  10.347338740401815\n",
      "R_square:  0.9979098521204529\n"
     ]
    }
   ],
   "source": [
    "print('SSE: ',SSE)\n",
    "print('MSE: ',MSE)\n",
    "print('RMSE: ',RMSE)\n",
    "print('R_square: ',R_square)"
   ]
  }
 ],
 "metadata": {
  "kernelspec": {
   "display_name": "Python 3",
   "language": "python",
   "name": "python3"
  },
  "language_info": {
   "codemirror_mode": {
    "name": "ipython",
    "version": 3
   },
   "file_extension": ".py",
   "mimetype": "text/x-python",
   "name": "python",
   "nbconvert_exporter": "python",
   "pygments_lexer": "ipython3",
   "version": "3.7.3"
  },
  "varInspector": {
   "cols": {
    "lenName": 16,
    "lenType": 16,
    "lenVar": 40
   },
   "kernels_config": {
    "python": {
     "delete_cmd_postfix": "",
     "delete_cmd_prefix": "del ",
     "library": "var_list.py",
     "varRefreshCmd": "print(var_dic_list())"
    },
    "r": {
     "delete_cmd_postfix": ") ",
     "delete_cmd_prefix": "rm(",
     "library": "var_list.r",
     "varRefreshCmd": "cat(var_dic_list()) "
    }
   },
   "types_to_exclude": [
    "module",
    "function",
    "builtin_function_or_method",
    "instance",
    "_Feature"
   ],
   "window_display": false
  }
 },
 "nbformat": 4,
 "nbformat_minor": 4
}
